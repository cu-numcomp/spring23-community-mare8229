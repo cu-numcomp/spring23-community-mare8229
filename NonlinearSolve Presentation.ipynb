{
 "cells": [
  {
   "cell_type": "markdown",
   "id": "dd110727-a6a9-4cc1-a655-cbf70182e6c3",
   "metadata": {},
   "source": [
    "# Nonlinear Solve\n",
    "\n",
    "NonlinearSolve is a julia package created by SciML, it's dedicated to creating a unified interface for nonlinear solving packages. It provides support for 3 specific nonlinear systems:\n",
    "1. Interval rootfinding problems\n",
    "2. Systems of nonlinear equations\n",
    "3. Steady state problems\n",
    "\n",
    "The package itself includes new nonlinear solvers, and allows the user to easily test alternative solver packages to determine which has the best accuracy and speed.\n",
    "\n",
    "The methods included are as follows:\n",
    "\n",
    "To solve or aid with nonlinear systems, NonlinearSolve offers the following methods:\n",
    "1. NewtonRaphson()\n",
    "2. TrustRegion()\n",
    "3. SimpleNewtonRaphson()\n",
    "4. Broyden()\n",
    "5. Klement()\n",
    "6. SimpleTrustRegion()\n",
    "7. SimpleDFSane()\n",
    "8. DynamicSS()\n",
    "9. NLSolveJL()\n",
    "10. CMINPACK()\n",
    "11. KINSOL()\n",
    "\n",
    "For interval rootfinding you have:\n",
    "1. Falsi()\n",
    "2. Bisection()\n",
    "3. Ridder()\n",
    "4. Brent()\n",
    "\n",
    "And finally, NonlinearSolve provides you with the following for handling steady state problems:\n",
    "1. NonLinearProblem() (Use this to convert a steady state problem to a nonlinear problem)\n",
    "2. DynamicSS()\n",
    "\n",
    "Because all steady state problems are able to be trivially converted into nonlinear problems, you'll notice that the DynamicSS() method used to solve steady state problems is also shared with nonlinear systems.\n",
    "\n",
    "# Solving a nonlinear system using NonlinearSolve (Tutorial)\n",
    "\n",
    "A nonlinear system $f(u) = 0$ is specified by defining a function $f(u,p)$, where $p$ are the parameters of the system. For example, the following solves the vector equation \n",
    "$f(u)= u^2 − p$ for a vector of equations:"
   ]
  },
  {
   "cell_type": "code",
   "execution_count": 1,
   "id": "c37dc16f-4bf2-4aa8-bcaf-6f0c31760f73",
   "metadata": {},
   "outputs": [
    {
     "data": {
      "text/plain": [
       "u: 2-element SVector{2, Float64} with indices SOneTo(2):\n",
       " 1.4142135623746899\n",
       " 1.4142135623746899"
      ]
     },
     "execution_count": 1,
     "metadata": {},
     "output_type": "execute_result"
    }
   ],
   "source": [
    "using NonlinearSolve, StaticArrays\n",
    "\n",
    "f(u, p) = u .* u .- p\n",
    "u0 = @SVector[1.0, 1.0]\n",
    "p = 2.0\n",
    "probN = NonlinearProblem(f, u0, p)\n",
    "solver = solve(probN, NewtonRaphson(), reltol = 1e-9)"
   ]
  },
  {
   "cell_type": "markdown",
   "id": "ae2208c5-a078-4cc0-95b0-609e93d234f3",
   "metadata": {},
   "source": [
    "where $u0$ is the initial condition for the rootfinder. Native NonlinearSolve.jl solvers use the given type of $u0$ to determine the type used within the solver and the return. Note that the parameters $p$ can be any type, but most are an AbstractArray for automatic differentiation.\n",
    "\n",
    "# Development\n",
    "\n",
    "NonlinearSolve is developed within a CI/CD pipeline that continually tests code before it's able to enter production. Developers communicate through Github issues, as well as Zulip and Slack. All contributors are required to pass the test cases, unless the contribution is found to be more efficient than the current prod branch by an automated bot and the test(s) that fail are not detrimental to the user.\n",
    "\n",
    "# Question\n",
    "\n",
    "What optimizations are being made within the methods and functions that allow the authors to fulfill their mission statement of providing the user with the most optimal solutions that they're able to find?\n",
    "\n",
    "# Possible Experiment\n",
    "\n",
    "Because NonlinearSolve is attempting to provide the user with the most efficient nonlinear solutions possible, a good experiment to test the library would be to take an arbitrary method from the list above, and compare it's speeds to an arbitrary library (that isn't included within NonlinearSolve) with an equivalent method, or create one from scratch. Once this is done, time the speed of the output and compare the results. If the results are equal and the NonlinearSolve solution is provided faster on a consistent basis we can conclude that it truly does provide optimal solutions."
   ]
  }
 ],
 "metadata": {
  "kernelspec": {
   "display_name": "Julia 1.8.3",
   "language": "julia",
   "name": "julia-1.8"
  },
  "language_info": {
   "file_extension": ".jl",
   "mimetype": "application/julia",
   "name": "julia",
   "version": "1.8.3"
  }
 },
 "nbformat": 4,
 "nbformat_minor": 5
}
